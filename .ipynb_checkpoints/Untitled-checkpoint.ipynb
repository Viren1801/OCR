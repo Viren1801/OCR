{
 "cells": [
  {
   "cell_type": "code",
   "execution_count": 3,
   "id": "recent-avenue",
   "metadata": {},
   "outputs": [],
   "source": [
    "from pdf2image import convert_from_path\n",
    "import os"
   ]
  },
  {
   "cell_type": "code",
   "execution_count": 4,
   "id": "constant-number",
   "metadata": {},
   "outputs": [
    {
     "name": "stdout",
     "output_type": "stream",
     "text": [
      "images/output1.jpg\n",
      "images/output2.jpg\n",
      "images/output3.jpg\n",
      "images/output4.jpg\n",
      "images/output5.jpg\n",
      "images/output6.jpg\n",
      "images/output7.jpg\n",
      "images/output8.jpg\n",
      "images/output9.jpg\n",
      "images/output10.jpg\n",
      "images/output11.jpg\n",
      "images/output12.jpg\n",
      "images/output13.jpg\n",
      "images/output14.jpg\n",
      "images/output15.jpg\n"
     ]
    }
   ],
   "source": [
    "\n",
    "def convert(file, outputDir):\n",
    "    if not os.path.exists(outputDir):\n",
    "        os.makedirs(outputDir)\n",
    "        \n",
    "    pages = convert_from_path(file, 500)\n",
    "    counter = 1\n",
    "    for page in pages:\n",
    "        myfile = outputDir +'output' + str(counter) + \".jpg\"\n",
    "        counter = counter + 1\n",
    "        page.save(myfile, 'JPEG')\n",
    "        print(myfile)\n",
    "\n",
    "file = 'Cookbook.pdf'\n",
    "outputDir = 'images1/'\n",
    "convert(file, outputDir)"
   ]
  },
  {
   "cell_type": "code",
   "execution_count": null,
   "id": "small-press",
   "metadata": {},
   "outputs": [],
   "source": []
  }
 ],
 "metadata": {
  "kernelspec": {
   "display_name": "Python 3",
   "language": "python",
   "name": "python3"
  },
  "language_info": {
   "codemirror_mode": {
    "name": "ipython",
    "version": 3
   },
   "file_extension": ".py",
   "mimetype": "text/x-python",
   "name": "python",
   "nbconvert_exporter": "python",
   "pygments_lexer": "ipython3",
   "version": "3.9.1"
  }
 },
 "nbformat": 4,
 "nbformat_minor": 5
}
