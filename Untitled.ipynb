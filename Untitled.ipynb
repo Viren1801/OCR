{
 "cells": [
  {
   "cell_type": "code",
   "execution_count": 1,
   "id": "recent-avenue",
   "metadata": {},
   "outputs": [],
   "source": [
    "from pdf2image import convert_from_path\n",
    "import os"
   ]
  },
  {
   "cell_type": "code",
   "execution_count": null,
   "id": "constant-number",
   "metadata": {},
   "outputs": [
    {
     "name": "stderr",
     "output_type": "stream",
     "text": [
      "Exception in thread Thread-10:\n",
      "Traceback (most recent call last):\n",
      "  File \"c:\\python39\\lib\\threading.py\", line 954, in _bootstrap_inner\n",
      "    self.run()\n",
      "  File \"c:\\python39\\lib\\threading.py\", line 892, in run\n",
      "    self._target(*self._args, **self._kwargs)\n",
      "  File \"c:\\python39\\lib\\subprocess.py\", line 1475, in _readerthread\n",
      "    buffer.append(fh.read())\n",
      "MemoryError\n"
     ]
    }
   ],
   "source": [
    "\n",
    "def convert(file, outputDir):\n",
    "    if not os.path.exists(outputDir):\n",
    "        os.makedirs(outputDir)\n",
    "        \n",
    "    pages = convert_from_path(file, 500)\n",
    "    counter = 1\n",
    "    for page in pages:\n",
    "        myfile = outputDir +'output' + str(counter) + \".jpg\"\n",
    "        counter = counter + 1\n",
    "        page.save(myfile, 'JPEG')\n",
    "        print(myfile)\n",
    "\n",
    "file = 'Cookbook.pdf'\n",
    "outputDir = 'images1/'\n",
    "convert(file, outputDir)"
   ]
  },
  {
   "cell_type": "code",
   "execution_count": null,
   "id": "small-press",
   "metadata": {},
   "outputs": [],
   "source": []
  }
 ],
 "metadata": {
  "kernelspec": {
   "display_name": "Python 3",
   "language": "python",
   "name": "python3"
  },
  "language_info": {
   "codemirror_mode": {
    "name": "ipython",
    "version": 3
   },
   "file_extension": ".py",
   "mimetype": "text/x-python",
   "name": "python",
   "nbconvert_exporter": "python",
   "pygments_lexer": "ipython3",
   "version": "3.9.1"
  }
 },
 "nbformat": 4,
 "nbformat_minor": 5
}
